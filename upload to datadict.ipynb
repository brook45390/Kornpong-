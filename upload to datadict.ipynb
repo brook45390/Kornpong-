{
 "cells": [
  {
   "cell_type": "markdown",
   "id": "d395e9eb-6ddb-4c6e-a492-b9399b63dc08",
   "metadata": {},
   "source": [
    "### read stored data from DataPlatform"
   ]
  },
  {
   "cell_type": "code",
   "execution_count": 1,
   "id": "fca0f4c3-5b5a-4515-b714-c5dd12c622e3",
   "metadata": {},
   "outputs": [],
   "source": [
    "from dsmlibrary.datanode import DataNode\n",
    "import json\n",
    "from tqdm.auto import tqdm\n",
    "import pandas as pd"
   ]
  },
  {
   "cell_type": "code",
   "execution_count": 2,
   "id": "c882c18e-5ae9-4a38-bcfc-ea730be0986b",
   "metadata": {},
   "outputs": [],
   "source": [
    "dir_raw_id = 96\n",
    "dir_process_id = 97"
   ]
  },
  {
   "cell_type": "code",
   "execution_count": 3,
   "id": "727cf12f-b64b-48ea-a304-07be454a5143",
   "metadata": {},
   "outputs": [
    {
     "name": "stdout",
     "output_type": "stream",
     "text": [
      "Init DataNode sucessful!\n"
     ]
    }
   ],
   "source": [
    "datanode = DataNode()"
   ]
  },
  {
   "cell_type": "code",
   "execution_count": 4,
   "id": "a36adc7d-df3e-4e6e-9817-a96efa197382",
   "metadata": {},
   "outputs": [
    {
     "data": {
      "text/plain": [
       "{'owner': 'pranodnard',\n",
       " 'human_size': '26.96 KB',\n",
       " 'name': 'mapping.json',\n",
       " 'description': '-',\n",
       " 'directory': 96,\n",
       " 'path': 'pranodnard/DSI310-25/raw/mapping.json'}"
      ]
     },
     "execution_count": 4,
     "metadata": {},
     "output_type": "execute_result"
    }
   ],
   "source": [
    "meta, fp = datanode.get_file(datanode.get_file_id(directory_id=dir_raw_id, name='mapping.json'))\n",
    "meta"
   ]
  },
  {
   "cell_type": "code",
   "execution_count": 5,
   "id": "2df0dc68-08ca-4c88-af38-3f996c0c5062",
   "metadata": {
    "tags": []
   },
   "outputs": [
    {
     "data": {
      "text/html": [
       "<div>\n",
       "<style scoped>\n",
       "    .dataframe tbody tr th:only-of-type {\n",
       "        vertical-align: middle;\n",
       "    }\n",
       "\n",
       "    .dataframe tbody tr th {\n",
       "        vertical-align: top;\n",
       "    }\n",
       "\n",
       "    .dataframe thead th {\n",
       "        text-align: right;\n",
       "    }\n",
       "</style>\n",
       "<table border=\"1\" class=\"dataframe\">\n",
       "  <thead>\n",
       "    <tr style=\"text-align: right;\">\n",
       "      <th></th>\n",
       "      <th>Name</th>\n",
       "      <th>Ratings</th>\n",
       "      <th>ReviewsAmount</th>\n",
       "      <th>Categories</th>\n",
       "      <th>Place</th>\n",
       "      <th>Coordinate</th>\n",
       "      <th>Latitude</th>\n",
       "      <th>Longtitude</th>\n",
       "    </tr>\n",
       "  </thead>\n",
       "  <tbody>\n",
       "    <tr>\n",
       "      <th>0</th>\n",
       "      <td>หยกสด ขนมไทยใบเตย100% (รังสิต)</td>\n",
       "      <td>5</td>\n",
       "      <td>61</td>\n",
       "      <td>ร้านอาหาร</td>\n",
       "      <td>Future Park Rangsit, B Floor</td>\n",
       "      <td>13.9897726,100.6180423</td>\n",
       "      <td>13.9897726</td>\n",
       "      <td>100.6180423</td>\n",
       "    </tr>\n",
       "    <tr>\n",
       "      <th>1</th>\n",
       "      <td>Salada Organic Kitchen @ตลาดบอง มาเช่</td>\n",
       "      <td>4.1</td>\n",
       "      <td>60</td>\n",
       "      <td>อาหารปลอดสารพิษ</td>\n",
       "      <td>105/1 ห้อง E 103 ตลาดบองมาร์เช่, Thetsaban Son...</td>\n",
       "      <td>13.8389791,100.5509716</td>\n",
       "      <td>13.8389791</td>\n",
       "      <td>100.5509716</td>\n",
       "    </tr>\n",
       "    <tr>\n",
       "      <th>2</th>\n",
       "      <td>O’ganic Concept ARI</td>\n",
       "      <td>4.9</td>\n",
       "      <td>15</td>\n",
       "      <td>ร้านอาหาร</td>\n",
       "      <td>68, 1 Ari Samphan 1 Alley</td>\n",
       "      <td>13.7753539,100.5389943</td>\n",
       "      <td>13.7753539</td>\n",
       "      <td>100.5389943</td>\n",
       "    </tr>\n",
       "    <tr>\n",
       "      <th>3</th>\n",
       "      <td>Organic Supply</td>\n",
       "      <td>4.4</td>\n",
       "      <td>187</td>\n",
       "      <td>ร้านขายอาหารออร์แกนิก</td>\n",
       "      <td>148 Nak Niwat Rd</td>\n",
       "      <td>13.7998433,100.6068766</td>\n",
       "      <td>13.7998433</td>\n",
       "      <td>100.6068766</td>\n",
       "    </tr>\n",
       "    <tr>\n",
       "      <th>4</th>\n",
       "      <td>organic store</td>\n",
       "      <td>0</td>\n",
       "      <td>0</td>\n",
       "      <td>อาหารเพื่อสุขภาพ</td>\n",
       "      <td>ตลาดรวมทรัพย์ Asok Alley</td>\n",
       "      <td>13.7443161,100.5622187</td>\n",
       "      <td>13.7443161</td>\n",
       "      <td>100.5622187</td>\n",
       "    </tr>\n",
       "    <tr>\n",
       "      <th>...</th>\n",
       "      <td>...</td>\n",
       "      <td>...</td>\n",
       "      <td>...</td>\n",
       "      <td>...</td>\n",
       "      <td>...</td>\n",
       "      <td>...</td>\n",
       "      <td>...</td>\n",
       "      <td>...</td>\n",
       "    </tr>\n",
       "    <tr>\n",
       "      <th>69</th>\n",
       "      <td>Oxyjaime</td>\n",
       "      <td>4.4</td>\n",
       "      <td>125</td>\n",
       "      <td>ร้านอาหาร</td>\n",
       "      <td>96, 57 Sirichai 1/10 Alley</td>\n",
       "      <td>13.8396,100.5176051</td>\n",
       "      <td>13.8396</td>\n",
       "      <td>100.5176051</td>\n",
       "    </tr>\n",
       "    <tr>\n",
       "      <th>70</th>\n",
       "      <td>Ohkhaju (Siam Square One)</td>\n",
       "      <td>4.4</td>\n",
       "      <td>1032</td>\n",
       "      <td>ร้านอาหาร</td>\n",
       "      <td>Unit #SS 3009, 388 Rama I Rd</td>\n",
       "      <td>13.7453562,100.5337972</td>\n",
       "      <td>13.7453562</td>\n",
       "      <td>100.5337972</td>\n",
       "    </tr>\n",
       "    <tr>\n",
       "      <th>71</th>\n",
       "      <td>Farm Mu Cafe</td>\n",
       "      <td>4.5</td>\n",
       "      <td>23</td>\n",
       "      <td>ร้านอาหาร</td>\n",
       "      <td>ดาดฟ้า มาเก็ตปาร์ค 539 Lasalle Rd</td>\n",
       "      <td>13.6630242,100.6179884</td>\n",
       "      <td>13.6630242</td>\n",
       "      <td>100.6179884</td>\n",
       "    </tr>\n",
       "    <tr>\n",
       "      <th>72</th>\n",
       "      <td>FreshBack ขายทุเรียน ขายผลไม้ ขายผักออร์แกนิก</td>\n",
       "      <td>0</td>\n",
       "      <td>0</td>\n",
       "      <td>ผู้ค้าผักและผลไม้สด</td>\n",
       "      <td>97 ถนน เย็นจิต</td>\n",
       "      <td>13.7097059,100.5239691</td>\n",
       "      <td>13.7097059</td>\n",
       "      <td>100.5239691</td>\n",
       "    </tr>\n",
       "    <tr>\n",
       "      <th>73</th>\n",
       "      <td>Fit Flavor ร้านอาหารเพื่อสุขภาพ</td>\n",
       "      <td>4.1</td>\n",
       "      <td>8</td>\n",
       "      <td>ร้านอาหาร</td>\n",
       "      <td>171 ซอย วังหลัง</td>\n",
       "      <td>13.7558483,100.4838196</td>\n",
       "      <td>13.7558483</td>\n",
       "      <td>100.4838196</td>\n",
       "    </tr>\n",
       "  </tbody>\n",
       "</table>\n",
       "<p>74 rows × 8 columns</p>\n",
       "</div>"
      ],
      "text/plain": [
       "                                             Name Ratings ReviewsAmount  \\\n",
       "0                  หยกสด ขนมไทยใบเตย100% (รังสิต)       5            61   \n",
       "1           Salada Organic Kitchen @ตลาดบอง มาเช่     4.1            60   \n",
       "2                             O’ganic Concept ARI     4.9            15   \n",
       "3                                  Organic Supply     4.4           187   \n",
       "4                                   organic store       0             0   \n",
       "..                                            ...     ...           ...   \n",
       "69                                       Oxyjaime     4.4           125   \n",
       "70                      Ohkhaju (Siam Square One)     4.4          1032   \n",
       "71                                   Farm Mu Cafe     4.5            23   \n",
       "72  FreshBack ขายทุเรียน ขายผลไม้ ขายผักออร์แกนิก       0             0   \n",
       "73                Fit Flavor ร้านอาหารเพื่อสุขภาพ     4.1             8   \n",
       "\n",
       "               Categories                                              Place  \\\n",
       "0               ร้านอาหาร                       Future Park Rangsit, B Floor   \n",
       "1         อาหารปลอดสารพิษ  105/1 ห้อง E 103 ตลาดบองมาร์เช่, Thetsaban Son...   \n",
       "2               ร้านอาหาร                          68, 1 Ari Samphan 1 Alley   \n",
       "3   ร้านขายอาหารออร์แกนิก                                   148 Nak Niwat Rd   \n",
       "4        อาหารเพื่อสุขภาพ                           ตลาดรวมทรัพย์ Asok Alley   \n",
       "..                    ...                                                ...   \n",
       "69              ร้านอาหาร                         96, 57 Sirichai 1/10 Alley   \n",
       "70              ร้านอาหาร                       Unit #SS 3009, 388 Rama I Rd   \n",
       "71              ร้านอาหาร                  ดาดฟ้า มาเก็ตปาร์ค 539 Lasalle Rd   \n",
       "72    ผู้ค้าผักและผลไม้สด                                     97 ถนน เย็นจิต   \n",
       "73              ร้านอาหาร                                    171 ซอย วังหลัง   \n",
       "\n",
       "                Coordinate    Latitude   Longtitude  \n",
       "0   13.9897726,100.6180423  13.9897726  100.6180423  \n",
       "1   13.8389791,100.5509716  13.8389791  100.5509716  \n",
       "2   13.7753539,100.5389943  13.7753539  100.5389943  \n",
       "3   13.7998433,100.6068766  13.7998433  100.6068766  \n",
       "4   13.7443161,100.5622187  13.7443161  100.5622187  \n",
       "..                     ...         ...          ...  \n",
       "69     13.8396,100.5176051     13.8396  100.5176051  \n",
       "70  13.7453562,100.5337972  13.7453562  100.5337972  \n",
       "71  13.6630242,100.6179884  13.6630242  100.6179884  \n",
       "72  13.7097059,100.5239691  13.7097059  100.5239691  \n",
       "73  13.7558483,100.4838196  13.7558483  100.4838196  \n",
       "\n",
       "[74 rows x 8 columns]"
      ]
     },
     "execution_count": 5,
     "metadata": {},
     "output_type": "execute_result"
    }
   ],
   "source": [
    "data = json.load(fp)\n",
    "df = data\n",
    "\n",
    "df = pd.json_normalize(data)\n",
    "df"
   ]
  },
  {
   "cell_type": "markdown",
   "id": "29ea489b-00b1-474a-a4b9-7dac580410bb",
   "metadata": {},
   "source": [
    "### write DataNode to DataPlatform"
   ]
  },
  {
   "cell_type": "code",
   "execution_count": 6,
   "id": "b8c7855f-acef-4074-9cf8-6562a2a55682",
   "metadata": {},
   "outputs": [
    {
     "name": "stdin",
     "output_type": "stream",
     "text": [
      "File 123.parquet alrady exists, do you want to replace y/n :  y\n"
     ]
    },
    {
     "data": {
      "text/plain": [
       "{'sucess': True,\n",
       " 'file_id': 419,\n",
       " 'path': 'pranodnard/DSI310-25/process/123.parquet',\n",
       " 'lineage': True}"
      ]
     },
     "execution_count": 6,
     "metadata": {},
     "output_type": "execute_result"
    }
   ],
   "source": [
    "datanode.write(df=df, directory=dir_process_id, name=\"123\", profiling=True, lineage=[datanode.get_file_id(directory_id=dir_raw_id, name='mapping.json')])"
   ]
  },
  {
   "cell_type": "code",
   "execution_count": null,
   "id": "d24a8cb6-daf4-4954-96d6-d505ab4ddc8f",
   "metadata": {},
   "outputs": [],
   "source": []
  }
 ],
 "metadata": {
  "kernelspec": {
   "display_name": "Python 3 (ipykernel)",
   "language": "python",
   "name": "python3"
  },
  "language_info": {
   "codemirror_mode": {
    "name": "ipython",
    "version": 3
   },
   "file_extension": ".py",
   "mimetype": "text/x-python",
   "name": "python",
   "nbconvert_exporter": "python",
   "pygments_lexer": "ipython3",
   "version": "3.10.5"
  }
 },
 "nbformat": 4,
 "nbformat_minor": 5
}
