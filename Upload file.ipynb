{
 "cells": [
  {
   "cell_type": "markdown",
   "id": "fcef6729-5890-4ea9-b91c-d34df4326986",
   "metadata": {},
   "source": [
    "# 01_scrap\n",
    "- scrapping data from newsdata.io and upload to DataPlatform"
   ]
  },
  {
   "cell_type": "markdown",
   "id": "94a72a85-cebd-4448-b86c-92fb6c23f028",
   "metadata": {},
   "source": [
    "## Getting data from newsdata.io"
   ]
  },
  {
   "cell_type": "code",
   "execution_count": 1,
   "id": "dc4b604f-ec03-419e-8f89-ad07b8469ffd",
   "metadata": {},
   "outputs": [],
   "source": [
    "import requests\n",
    "from tqdm.auto import tqdm\n",
    "import json"
   ]
  },
  {
   "cell_type": "code",
   "execution_count": 2,
   "id": "78743c9a-58bc-4637-802f-4c809a133430",
   "metadata": {},
   "outputs": [],
   "source": [
    "from dsmlibrary.datanode import DataNode"
   ]
  },
  {
   "cell_type": "code",
   "execution_count": 3,
   "id": "87bc0455-ee3d-4d92-8065-c581f7749063",
   "metadata": {},
   "outputs": [],
   "source": [
    "dir_raw_id = 96"
   ]
  },
  {
   "cell_type": "code",
   "execution_count": 4,
   "id": "da831174-9c0c-4252-8b2f-ad0eff5e483e",
   "metadata": {},
   "outputs": [
    {
     "name": "stdout",
     "output_type": "stream",
     "text": [
      "Init DataNode sucessful!\n"
     ]
    }
   ],
   "source": [
    "datanode = DataNode()"
   ]
  },
  {
   "cell_type": "code",
   "execution_count": 5,
   "id": "8e70572a-332c-45b1-ab97-a3b621eaf995",
   "metadata": {},
   "outputs": [
    {
     "name": "stdin",
     "output_type": "stream",
     "text": [
      "File mapping.json alrady exists, do you want to replace y/n :  y\n"
     ]
    },
    {
     "data": {
      "application/vnd.jupyter.widget-view+json": {
       "model_id": "49c2840442704fb89d8aca5d21ea20e2",
       "version_major": 2,
       "version_minor": 0
      },
      "text/plain": [
       "  0%|          | 0.00/26.3k [00:00<?, ?B/s]"
      ]
     },
     "metadata": {},
     "output_type": "display_data"
    },
    {
     "data": {
      "text/plain": [
       "{'id': 420,\n",
       " 'msg': 'file mapping.json create sucessful',\n",
       " 'path': 'pranodnard/DSI310-25/raw/mapping.json',\n",
       " 'uploaded': True}"
      ]
     },
     "execution_count": 5,
     "metadata": {},
     "output_type": "execute_result"
    }
   ],
   "source": [
    "datanode.upload_file(directory_id=dir_raw_id, file_path='mapping.json')"
   ]
  },
  {
   "cell_type": "code",
   "execution_count": null,
   "id": "8aea64f8-9f15-477d-8658-2c8a8c351599",
   "metadata": {},
   "outputs": [],
   "source": []
  }
 ],
 "metadata": {
  "kernelspec": {
   "display_name": "Python 3 (ipykernel)",
   "language": "python",
   "name": "python3"
  },
  "language_info": {
   "codemirror_mode": {
    "name": "ipython",
    "version": 3
   },
   "file_extension": ".py",
   "mimetype": "text/x-python",
   "name": "python",
   "nbconvert_exporter": "python",
   "pygments_lexer": "ipython3",
   "version": "3.10.5"
  }
 },
 "nbformat": 4,
 "nbformat_minor": 5
}
